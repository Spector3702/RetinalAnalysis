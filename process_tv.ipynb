{
 "cells": [
  {
   "cell_type": "code",
   "execution_count": 1,
   "metadata": {},
   "outputs": [],
   "source": [
    "import os\n",
    "import cv2\n",
    "\n",
    "from retina_features.bloodvessels import extract_bv"
   ]
  },
  {
   "cell_type": "code",
   "execution_count": 2,
   "metadata": {},
   "outputs": [],
   "source": [
    "pathFolder = \"data/Sample_imgs/TV\"\n",
    "filesArray = [x for x in os.listdir(pathFolder) if os.path.isfile(os.path.join(pathFolder,x))]\n",
    "destinationFolder = \"data/Sample_imgs/TV_processed/\""
   ]
  },
  {
   "cell_type": "code",
   "execution_count": 3,
   "metadata": {},
   "outputs": [],
   "source": [
    "for file_name in filesArray:\n",
    "    file_name_no_extension = os.path.splitext(file_name)[0]\n",
    "    fundus = cv2.imread(pathFolder + '/' + file_name)\t\t\n",
    "    bloodvessel = extract_bv(fundus)\n",
    "    cv2.imwrite(destinationFolder + file_name_no_extension + \"_bloodvessel.png\", bloodvessel)"
   ]
  }
 ],
 "metadata": {
  "kernelspec": {
   "display_name": "MedicalImage",
   "language": "python",
   "name": "python3"
  },
  "language_info": {
   "codemirror_mode": {
    "name": "ipython",
    "version": 3
   },
   "file_extension": ".py",
   "mimetype": "text/x-python",
   "name": "python",
   "nbconvert_exporter": "python",
   "pygments_lexer": "ipython3",
   "version": "3.11.5"
  }
 },
 "nbformat": 4,
 "nbformat_minor": 2
}
